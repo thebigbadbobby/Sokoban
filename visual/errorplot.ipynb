{
 "cells": [
  {
   "cell_type": "code",
   "execution_count": 12,
   "metadata": {},
   "outputs": [
    {
     "name": "stdout",
     "output_type": "stream",
     "text": [
      "[1.279212706982913, 3.865762444364106e-05, 5.372798899309028e-08, 0.0, 0.0, 0.0, 0.0, 0.0, 0.0, 0.0]\n",
      "[0.03199730706470995, 1.5512938409826639e-06, 1.7905378717905728e-09, 4.387281843063202e-11, 3.0258579436233497e-12, 7.076681604445647e-13, 2.5540172534674477e-13, 1.1478618830896358e-13, 5.905985970355303e-14, 3.313554742306266e-14]\n"
     ]
    },
    {
     "data": {
      "image/png": "[encoded data removed]",
      "text/plain": [
       "<Figure size 432x288 with 1 Axes>"
      ]
     },
     "metadata": {
      "needs_background": "light"
     },
     "output_type": "display_data"
    }
   ],
   "source": [
    "import matplotlib.pyplot as plt\n",
    "import csv\n",
    "\n",
    "with open('../4x4ex.csv', 'r') as file:\n",
    "    itr = 0\n",
    "    epoch = 0\n",
    "    reader = csv.reader(file)\n",
    "    pi = []\n",
    "    vi = []\n",
    "    piCount = 0\n",
    "    viCount = 0\n",
    "    for row in reader:\n",
    "        piCount += float(row[2])\n",
    "        viCount += float(row[3])\n",
    "        if epoch == 19:\n",
    "            itr += 1\n",
    "            epoch = 0\n",
    "            pi.append(piCount/20)\n",
    "            vi.append(viCount/20)\n",
    "            piCount, viCount = 0, 0\n",
    "        else:\n",
    "            epoch += 1\n",
    "    print(pi)\n",
    "    print(vi)\n",
    "    x = [i + 1 for i in range(0, len(pi))]\n",
    "    plt.plot(x, pi, label='Policy Error %')\n",
    "    plt.plot(x, vi, '-.', label='Value Error %')\n",
    "    plt.title(\"Average error per iteration\")\n",
    "    plt.xlabel(\"iteration\")\n",
    "    plt.ylabel(\"Error %\")\n",
    "    plt.legend()\n",
    "    # plt.show()\n",
    "    plt.savefig(\"PolicyVolumeError.png\")"
   ]
  },
  {
   "cell_type": "code",
   "execution_count": null,
   "metadata": {},
   "outputs": [],
   "source": []
  }
 ],
 "metadata": {
  "interpreter": {
   "hash": "7d6993cb2f9ce9a59d5d7380609d9cb5192a9dedd2735a011418ad9e827eb538"
  },
  "kernelspec": {
   "display_name": "Python 3.9.6 64-bit",
   "language": "python",
   "name": "python3"
  },
  "language_info": {
   "codemirror_mode": {
    "name": "ipython",
    "version": 3
   },
   "file_extension": ".py",
   "mimetype": "text/x-python",
   "name": "python",
   "nbconvert_exporter": "python",
   "pygments_lexer": "ipython3",
   "version": "3.9.6"
  },
  "orig_nbformat": 4
 },
 "nbformat": 4,
 "nbformat_minor": 2
}
